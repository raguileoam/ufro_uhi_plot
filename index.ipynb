{
 "cells": [
  {
   "cell_type": "markdown",
   "metadata": {},
   "source": [
    "# ufro_uhi_plot\n",
    "\n",
    "> Python proyect to plotting urban heat island."
   ]
  },
  {
   "cell_type": "markdown",
   "metadata": {},
   "source": [
    "## Install"
   ]
  },
  {
   "cell_type": "markdown",
   "metadata": {},
   "source": [
    "`pip install ufro_uhi_plot`"
   ]
  },
  {
   "cell_type": "markdown",
   "metadata": {},
   "source": [
    "## How to use"
   ]
  },
  {
   "cell_type": "markdown",
   "metadata": {},
   "source": [
    "Import Uhi from the package"
   ]
  },
  {
   "cell_type": "code",
   "execution_count": null,
   "metadata": {},
   "outputs": [],
   "source": [
    "from ufro_uhi_plot.uhi import Uhi"
   ]
  },
  {
   "cell_type": "markdown",
   "metadata": {},
   "source": [
    "Instantiate the Uhi Class"
   ]
  },
  {
   "cell_type": "code",
   "execution_count": null,
   "metadata": {},
   "outputs": [],
   "source": [
    "file_path = \"examples/data_example.csv\"\n",
    "station_label = \"Vivienda.ID\"\n",
    "datetime_label = \"Fecha\"\n",
    "temperature_label = \"Pm25\"\n",
    "latitude_label = \"Latitud\"\n",
    "longitude_label = \"Longitud\"\n",
    "\n",
    "uhi = Uhi(file_path,station_label,datetime_label,temperature_label,latitude_label,longitude_label)"
   ]
  },
  {
   "cell_type": "markdown",
   "metadata": {},
   "source": [
    "Plot the images according your preferences"
   ]
  },
  {
   "cell_type": "code",
   "execution_count": null,
   "metadata": {},
   "outputs": [
    {
     "name": "stdout",
     "output_type": "stream",
     "text": [
      "Successfully created the directory examples/generated maps\n",
      "Plotting UHI Map of  2019-05-26\n",
      "...\n",
      "2019-05-26 00:59:35\n",
      "2019-05-26 01:59:35\n",
      "2019-05-26 02:59:35\n",
      "2019-05-26 03:59:35\n",
      "2019-05-26 04:59:35\n",
      "2019-05-26 05:59:35\n",
      "2019-05-26 06:59:35\n",
      "2019-05-26 07:59:35\n",
      "2019-05-26 08:59:35\n",
      "2019-05-26 09:59:35\n",
      "2019-05-26 10:59:35\n",
      "2019-05-26 11:59:35\n",
      "2019-05-26 12:59:35\n",
      "2019-05-26 13:59:35\n",
      "2019-05-26 14:59:36\n",
      "2019-05-26 15:59:35\n",
      "2019-05-26 16:59:35\n",
      "2019-05-26 17:59:35\n",
      "2019-05-26 18:59:35\n",
      "2019-05-26 19:59:35\n",
      "2019-05-26 20:59:35\n",
      "2019-05-26 21:59:36\n",
      "2019-05-26 22:59:35\n",
      "2019-05-26 23:59:35\n",
      "Plot completed 2019-05-26\n"
     ]
    }
   ],
   "source": [
    "\n",
    "output_folder=\"examples/generated maps\"\n",
    "\n",
    "days_array = [\"2019-05-26\"]\n",
    "extent = [-72.69,-72.53,-38.78,-38.68]\n",
    "prefix_file = \"contamination map\"\n",
    "unit = \"ug/m³\"\n",
    "mapbox_username = #<insert your mapbox's username>\n",
    "mapbox_token= #<insert your mapbox's token>\n",
    "\n",
    "uhi.plotImagesPerDaysArray(output_folder,days_array,extent,prefixFile=prefix_file,hasLimits=True,Z_UNIT=unit,mapbox_username=mapbox_username,mapbox_token=mapbox_token)"
   ]
  },
  {
   "cell_type": "markdown",
   "metadata": {},
   "source": [
    "### Google Colab use"
   ]
  },
  {
   "cell_type": "markdown",
   "metadata": {},
   "source": [
    "If you have a problem with Google Colab you can install binary shapely in a jupyter notebox that fix this."
   ]
  },
  {
   "cell_type": "code",
   "execution_count": null,
   "metadata": {},
   "outputs": [],
   "source": [
    "!pip uninstall shapely --yes\n",
    "!pip install shapely --no-binary shapely"
   ]
  },
  {
   "cell_type": "code",
   "execution_count": null,
   "metadata": {},
   "outputs": [],
   "source": []
  }
 ],
 "metadata": {
  "kernelspec": {
   "display_name": "Python 3",
   "language": "python",
   "name": "python3"
  }
 },
 "nbformat": 4,
 "nbformat_minor": 0
}
